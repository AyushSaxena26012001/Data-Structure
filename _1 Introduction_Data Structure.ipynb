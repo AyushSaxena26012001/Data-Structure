{
 "cells": [
  {
   "cell_type": "markdown",
   "id": "34bd1db7",
   "metadata": {},
   "source": [
    "# Data Strcuture\n",
    " - Data Structure is the way of organizing and storing data so that it can be accessed and manipulated effeciently.\n",
    " - Data will be of no use if you are to accessing and manpulating data.\n",
    " \n",
    " ## Types of Data Structure\n",
    " - List\n",
    " - String\n",
    " - Set\n",
    " - Tuples\n",
    " - Dictionary\n",
    " - Array"
   ]
  },
  {
   "cell_type": "markdown",
   "id": "01ab5643",
   "metadata": {},
   "source": [
    "### List\n",
    "- Store heterogenus data.\n",
    "- It is ordered coleection of element,\n",
    "- List are mutuable."
   ]
  },
  {
   "cell_type": "code",
   "execution_count": 1,
   "id": "c9764b85",
   "metadata": {},
   "outputs": [
    {
     "data": {
      "text/plain": [
       "list"
      ]
     },
     "execution_count": 1,
     "metadata": {},
     "output_type": "execute_result"
    }
   ],
   "source": [
    "num=[1,2,3,4]\n",
    "type(num)"
   ]
  },
  {
   "cell_type": "code",
   "execution_count": 2,
   "id": "7478ade6",
   "metadata": {},
   "outputs": [
    {
     "data": {
      "text/plain": [
       "1"
      ]
     },
     "execution_count": 2,
     "metadata": {},
     "output_type": "execute_result"
    }
   ],
   "source": [
    "num[0]"
   ]
  },
  {
   "cell_type": "code",
   "execution_count": 3,
   "id": "52272e56",
   "metadata": {},
   "outputs": [
    {
     "data": {
      "text/plain": [
       "2"
      ]
     },
     "execution_count": 3,
     "metadata": {},
     "output_type": "execute_result"
    }
   ],
   "source": [
    "num[1]"
   ]
  },
  {
   "cell_type": "code",
   "execution_count": 4,
   "id": "56586882",
   "metadata": {},
   "outputs": [
    {
     "data": {
      "text/plain": [
       "4"
      ]
     },
     "execution_count": 4,
     "metadata": {},
     "output_type": "execute_result"
    }
   ],
   "source": [
    "num[-1]"
   ]
  },
  {
   "cell_type": "code",
   "execution_count": 6,
   "id": "9472fb45",
   "metadata": {},
   "outputs": [
    {
     "data": {
      "text/plain": [
       "4"
      ]
     },
     "execution_count": 6,
     "metadata": {},
     "output_type": "execute_result"
    }
   ],
   "source": [
    "num[3]"
   ]
  },
  {
   "cell_type": "code",
   "execution_count": 7,
   "id": "c70d8359",
   "metadata": {},
   "outputs": [
    {
     "ename": "IndexError",
     "evalue": "list index out of range",
     "output_type": "error",
     "traceback": [
      "\u001b[1;31m---------------------------------------------------------------------------\u001b[0m",
      "\u001b[1;31mIndexError\u001b[0m                                Traceback (most recent call last)",
      "\u001b[1;32m~\\AppData\\Local\\Temp/ipykernel_26888/2969752256.py\u001b[0m in \u001b[0;36m<module>\u001b[1;34m\u001b[0m\n\u001b[1;32m----> 1\u001b[1;33m \u001b[0mnum\u001b[0m\u001b[1;33m[\u001b[0m\u001b[1;36m5\u001b[0m\u001b[1;33m]\u001b[0m\u001b[1;33m\u001b[0m\u001b[1;33m\u001b[0m\u001b[0m\n\u001b[0m",
      "\u001b[1;31mIndexError\u001b[0m: list index out of range"
     ]
    }
   ],
   "source": [
    "num[5]"
   ]
  },
  {
   "cell_type": "code",
   "execution_count": 8,
   "id": "e79f56ad",
   "metadata": {},
   "outputs": [
    {
     "data": {
      "text/plain": [
       "[1, 2, 3.5, 'apple', True, False]"
      ]
     },
     "execution_count": 8,
     "metadata": {},
     "output_type": "execute_result"
    }
   ],
   "source": [
    "a=[1,2,3.5,'apple',True, False]\n",
    "a"
   ]
  },
  {
   "cell_type": "code",
   "execution_count": 9,
   "id": "569ab128",
   "metadata": {},
   "outputs": [
    {
     "data": {
      "text/plain": [
       "list"
      ]
     },
     "execution_count": 9,
     "metadata": {},
     "output_type": "execute_result"
    }
   ],
   "source": [
    "type(a)"
   ]
  },
  {
   "cell_type": "code",
   "execution_count": 10,
   "id": "3f19698b",
   "metadata": {},
   "outputs": [],
   "source": [
    "#Adding element to the list\n",
    "a.append(\"Orange\")"
   ]
  },
  {
   "cell_type": "code",
   "execution_count": 11,
   "id": "6463119b",
   "metadata": {},
   "outputs": [
    {
     "data": {
      "text/plain": [
       "[1, 2, 3.5, 'apple', True, False, 'Orange']"
      ]
     },
     "execution_count": 11,
     "metadata": {},
     "output_type": "execute_result"
    }
   ],
   "source": [
    "a"
   ]
  },
  {
   "cell_type": "code",
   "execution_count": 13,
   "id": "fd841084",
   "metadata": {},
   "outputs": [],
   "source": [
    "a.remove('Orange')"
   ]
  },
  {
   "cell_type": "code",
   "execution_count": 14,
   "id": "aaf29e2c",
   "metadata": {},
   "outputs": [
    {
     "data": {
      "text/plain": [
       "[1, 2, 3.5, 'apple', True, False]"
      ]
     },
     "execution_count": 14,
     "metadata": {},
     "output_type": "execute_result"
    }
   ],
   "source": [
    "a"
   ]
  },
  {
   "cell_type": "code",
   "execution_count": 15,
   "id": "db842fc5",
   "metadata": {},
   "outputs": [],
   "source": [
    "#List inside list\n",
    "b=[[1,2,3],[4,5,6],[7,8,9]]"
   ]
  },
  {
   "cell_type": "code",
   "execution_count": 16,
   "id": "06b5ca6f",
   "metadata": {},
   "outputs": [
    {
     "data": {
      "text/plain": [
       "[[1, 2, 3], [4, 5, 6], [7, 8, 9]]"
      ]
     },
     "execution_count": 16,
     "metadata": {},
     "output_type": "execute_result"
    }
   ],
   "source": [
    "b"
   ]
  },
  {
   "cell_type": "code",
   "execution_count": 17,
   "id": "2a6c5d6b",
   "metadata": {},
   "outputs": [
    {
     "data": {
      "text/plain": [
       "[4, 5, 6]"
      ]
     },
     "execution_count": 17,
     "metadata": {},
     "output_type": "execute_result"
    }
   ],
   "source": [
    "b[1]"
   ]
  },
  {
   "cell_type": "code",
   "execution_count": 18,
   "id": "a400157f",
   "metadata": {},
   "outputs": [
    {
     "data": {
      "text/plain": [
       "4"
      ]
     },
     "execution_count": 18,
     "metadata": {},
     "output_type": "execute_result"
    }
   ],
   "source": [
    "b[1][0]"
   ]
  },
  {
   "cell_type": "code",
   "execution_count": 19,
   "id": "a53c30d7",
   "metadata": {},
   "outputs": [
    {
     "data": {
      "text/plain": [
       "[4, 5]"
      ]
     },
     "execution_count": 19,
     "metadata": {},
     "output_type": "execute_result"
    }
   ],
   "source": [
    "b[1][:2]"
   ]
  },
  {
   "cell_type": "code",
   "execution_count": 20,
   "id": "f557486e",
   "metadata": {},
   "outputs": [],
   "source": [
    "# List is mutuable\n",
    "shopping_list=['apple','orange','Kiwi']"
   ]
  },
  {
   "cell_type": "code",
   "execution_count": 21,
   "id": "2de09ee2",
   "metadata": {},
   "outputs": [
    {
     "data": {
      "text/plain": [
       "['apple', 'orange', 'Kiwi']"
      ]
     },
     "execution_count": 21,
     "metadata": {},
     "output_type": "execute_result"
    }
   ],
   "source": [
    "shopping_list"
   ]
  },
  {
   "cell_type": "code",
   "execution_count": 22,
   "id": "39381db3",
   "metadata": {},
   "outputs": [],
   "source": [
    "shopping_list[0]='Mango'"
   ]
  },
  {
   "cell_type": "code",
   "execution_count": 23,
   "id": "5db1d764",
   "metadata": {},
   "outputs": [
    {
     "data": {
      "text/plain": [
       "['Mango', 'orange', 'Kiwi']"
      ]
     },
     "execution_count": 23,
     "metadata": {},
     "output_type": "execute_result"
    }
   ],
   "source": [
    "shopping_list"
   ]
  },
  {
   "cell_type": "code",
   "execution_count": 24,
   "id": "e6739516",
   "metadata": {},
   "outputs": [
    {
     "ename": "TypeError",
     "evalue": "list indices must be integers or slices, not str",
     "output_type": "error",
     "traceback": [
      "\u001b[1;31m---------------------------------------------------------------------------\u001b[0m",
      "\u001b[1;31mTypeError\u001b[0m                                 Traceback (most recent call last)",
      "\u001b[1;32m~\\AppData\\Local\\Temp/ipykernel_26888/653399938.py\u001b[0m in \u001b[0;36m<module>\u001b[1;34m\u001b[0m\n\u001b[1;32m----> 1\u001b[1;33m \u001b[0mshopping_list\u001b[0m\u001b[1;33m[\u001b[0m\u001b[1;34m'orange'\u001b[0m\u001b[1;33m]\u001b[0m\u001b[1;33m=\u001b[0m\u001b[1;34m'Papaya'\u001b[0m\u001b[1;33m\u001b[0m\u001b[1;33m\u001b[0m\u001b[0m\n\u001b[0m",
      "\u001b[1;31mTypeError\u001b[0m: list indices must be integers or slices, not str"
     ]
    }
   ],
   "source": [
    "shopping_list['orange']='Papaya'"
   ]
  },
  {
   "cell_type": "code",
   "execution_count": 31,
   "id": "e0149f36",
   "metadata": {},
   "outputs": [
    {
     "name": "stdout",
     "output_type": "stream",
     "text": [
      "Mango orange Kiwi "
     ]
    }
   ],
   "source": [
    "for i in shopping_list:\n",
    "    print(i, end=\" \")"
   ]
  },
  {
   "cell_type": "markdown",
   "id": "0a50dede",
   "metadata": {},
   "source": [
    "### Tuples\n",
    "- Immutable\n",
    "- Heterogenous"
   ]
  },
  {
   "cell_type": "code",
   "execution_count": 32,
   "id": "5697f7f3",
   "metadata": {},
   "outputs": [
    {
     "data": {
      "text/plain": [
       "tuple"
      ]
     },
     "execution_count": 32,
     "metadata": {},
     "output_type": "execute_result"
    }
   ],
   "source": [
    "point=(2,3)\n",
    "type(point)"
   ]
  },
  {
   "cell_type": "code",
   "execution_count": 33,
   "id": "8812c604",
   "metadata": {},
   "outputs": [],
   "source": [
    "#Use cases of tuple\n",
    "#1 Adhar card\n",
    "#2 Emp Id and so on "
   ]
  },
  {
   "cell_type": "code",
   "execution_count": 34,
   "id": "4d5eff4f",
   "metadata": {},
   "outputs": [],
   "source": [
    "t=(1,2,3.1)"
   ]
  },
  {
   "cell_type": "code",
   "execution_count": 35,
   "id": "b274e721",
   "metadata": {},
   "outputs": [
    {
     "data": {
      "text/plain": [
       "(1, 2, 3.1)"
      ]
     },
     "execution_count": 35,
     "metadata": {},
     "output_type": "execute_result"
    }
   ],
   "source": [
    "t"
   ]
  },
  {
   "cell_type": "code",
   "execution_count": 36,
   "id": "a452661b",
   "metadata": {},
   "outputs": [],
   "source": [
    "emp_name=(\"Ayush\",'Adhyyan',\"Ankit\")"
   ]
  },
  {
   "cell_type": "code",
   "execution_count": 38,
   "id": "eb7d46dc",
   "metadata": {},
   "outputs": [
    {
     "data": {
      "text/plain": [
       "'Ankit'"
      ]
     },
     "execution_count": 38,
     "metadata": {},
     "output_type": "execute_result"
    }
   ],
   "source": [
    "emp_name[2]"
   ]
  },
  {
   "cell_type": "code",
   "execution_count": 41,
   "id": "f657dab5",
   "metadata": {},
   "outputs": [],
   "source": [
    "box1=('a','b')\n",
    "box2=('c','d')\n",
    "bag=(box1,box2)"
   ]
  },
  {
   "cell_type": "code",
   "execution_count": 42,
   "id": "9da59164",
   "metadata": {},
   "outputs": [
    {
     "data": {
      "text/plain": [
       "(('a', 'b'), ('c', 'd'))"
      ]
     },
     "execution_count": 42,
     "metadata": {},
     "output_type": "execute_result"
    }
   ],
   "source": [
    "bag"
   ]
  },
  {
   "cell_type": "code",
   "execution_count": 43,
   "id": "ea8da510",
   "metadata": {},
   "outputs": [
    {
     "data": {
      "text/plain": [
       "tuple"
      ]
     },
     "execution_count": 43,
     "metadata": {},
     "output_type": "execute_result"
    }
   ],
   "source": [
    "type(bag)"
   ]
  },
  {
   "cell_type": "code",
   "execution_count": 44,
   "id": "3584d3e6",
   "metadata": {},
   "outputs": [
    {
     "data": {
      "text/plain": [
       "'b'"
      ]
     },
     "execution_count": 44,
     "metadata": {},
     "output_type": "execute_result"
    }
   ],
   "source": [
    "bag[0][1]"
   ]
  },
  {
   "cell_type": "code",
   "execution_count": 45,
   "id": "e4d8a90d",
   "metadata": {},
   "outputs": [
    {
     "name": "stdout",
     "output_type": "stream",
     "text": [
      "a\n",
      "b\n",
      "c\n",
      "d\n"
     ]
    }
   ],
   "source": [
    "for i in bag:\n",
    "    for j in i:\n",
    "        print(j)"
   ]
  },
  {
   "cell_type": "markdown",
   "id": "1458ce9e",
   "metadata": {},
   "source": [
    "### Sets\n",
    "- Unordered collection of unique elemet."
   ]
  },
  {
   "cell_type": "code",
   "execution_count": 46,
   "id": "fc378c7f",
   "metadata": {},
   "outputs": [],
   "source": [
    "s={1,2,'red'}"
   ]
  },
  {
   "cell_type": "code",
   "execution_count": 47,
   "id": "01208ba0",
   "metadata": {},
   "outputs": [
    {
     "data": {
      "text/plain": [
       "{1, 2, 'red'}"
      ]
     },
     "execution_count": 47,
     "metadata": {},
     "output_type": "execute_result"
    }
   ],
   "source": [
    "s"
   ]
  },
  {
   "cell_type": "code",
   "execution_count": 50,
   "id": "e1291b00",
   "metadata": {},
   "outputs": [],
   "source": [
    "set={'red','blue','orange','red','blue','orange'}"
   ]
  },
  {
   "cell_type": "code",
   "execution_count": 51,
   "id": "987ecdfe",
   "metadata": {},
   "outputs": [
    {
     "data": {
      "text/plain": [
       "{'blue', 'orange', 'red'}"
      ]
     },
     "execution_count": 51,
     "metadata": {},
     "output_type": "execute_result"
    }
   ],
   "source": [
    "set"
   ]
  },
  {
   "cell_type": "code",
   "execution_count": 52,
   "id": "257dd683",
   "metadata": {},
   "outputs": [
    {
     "ename": "TypeError",
     "evalue": "'set' object is not subscriptable",
     "output_type": "error",
     "traceback": [
      "\u001b[1;31m---------------------------------------------------------------------------\u001b[0m",
      "\u001b[1;31mTypeError\u001b[0m                                 Traceback (most recent call last)",
      "\u001b[1;32m~\\AppData\\Local\\Temp/ipykernel_26888/3948832299.py\u001b[0m in \u001b[0;36m<module>\u001b[1;34m\u001b[0m\n\u001b[1;32m----> 1\u001b[1;33m \u001b[0mset\u001b[0m\u001b[1;33m[\u001b[0m\u001b[1;36m0\u001b[0m\u001b[1;33m]\u001b[0m\u001b[1;33m\u001b[0m\u001b[1;33m\u001b[0m\u001b[0m\n\u001b[0m",
      "\u001b[1;31mTypeError\u001b[0m: 'set' object is not subscriptable"
     ]
    }
   ],
   "source": [
    "set[0] # Error as it is unordered and unique."
   ]
  },
  {
   "cell_type": "code",
   "execution_count": 55,
   "id": "82caa37c",
   "metadata": {},
   "outputs": [],
   "source": [
    "set.add('Kiwi') #mutubale set\n"
   ]
  },
  {
   "cell_type": "code",
   "execution_count": 54,
   "id": "21c44e2e",
   "metadata": {},
   "outputs": [
    {
     "data": {
      "text/plain": [
       "{'Kiwi', 'blue', 'orange', 'red'}"
      ]
     },
     "execution_count": 54,
     "metadata": {},
     "output_type": "execute_result"
    }
   ],
   "source": [
    "set"
   ]
  },
  {
   "cell_type": "code",
   "execution_count": 57,
   "id": "78a8e876",
   "metadata": {},
   "outputs": [],
   "source": [
    "set.remove(\"Kiwi\")"
   ]
  },
  {
   "cell_type": "code",
   "execution_count": 58,
   "id": "0ecb2a57",
   "metadata": {},
   "outputs": [
    {
     "data": {
      "text/plain": [
       "{'blue', 'orange', 'red'}"
      ]
     },
     "execution_count": 58,
     "metadata": {},
     "output_type": "execute_result"
    }
   ],
   "source": [
    "set"
   ]
  },
  {
   "cell_type": "code",
   "execution_count": 59,
   "id": "435ed6c3",
   "metadata": {},
   "outputs": [],
   "source": [
    "#Use case\n",
    "#1 to get unique elements.\n"
   ]
  },
  {
   "cell_type": "markdown",
   "id": "39947cbc",
   "metadata": {},
   "source": [
    "## Dictionary\n",
    "- Stor the data in key value pair."
   ]
  },
  {
   "cell_type": "code",
   "execution_count": 60,
   "id": "e01ffd39",
   "metadata": {},
   "outputs": [],
   "source": [
    "my_dict={'course':'DS','Duration':200}"
   ]
  },
  {
   "cell_type": "code",
   "execution_count": 61,
   "id": "bbfe17ad",
   "metadata": {},
   "outputs": [
    {
     "data": {
      "text/plain": [
       "{'course': 'DS', 'Duration': 200}"
      ]
     },
     "execution_count": 61,
     "metadata": {},
     "output_type": "execute_result"
    }
   ],
   "source": [
    "my_dict"
   ]
  },
  {
   "cell_type": "code",
   "execution_count": 62,
   "id": "a425b4ca",
   "metadata": {},
   "outputs": [
    {
     "data": {
      "text/plain": [
       "dict"
      ]
     },
     "execution_count": 62,
     "metadata": {},
     "output_type": "execute_result"
    }
   ],
   "source": [
    "type(my_dict)"
   ]
  },
  {
   "cell_type": "code",
   "execution_count": 2,
   "id": "2169e55e",
   "metadata": {},
   "outputs": [],
   "source": [
    "phone={\"Dad\":123456,'mom':456789}"
   ]
  },
  {
   "cell_type": "code",
   "execution_count": 3,
   "id": "7d04aed8",
   "metadata": {},
   "outputs": [
    {
     "data": {
      "text/plain": [
       "123456"
      ]
     },
     "execution_count": 3,
     "metadata": {},
     "output_type": "execute_result"
    }
   ],
   "source": [
    "phone['Dad']"
   ]
  },
  {
   "cell_type": "code",
   "execution_count": 6,
   "id": "a3488913",
   "metadata": {},
   "outputs": [
    {
     "data": {
      "text/plain": [
       "123456"
      ]
     },
     "execution_count": 6,
     "metadata": {},
     "output_type": "execute_result"
    }
   ],
   "source": [
    "phone.get('Dad')"
   ]
  },
  {
   "cell_type": "code",
   "execution_count": 7,
   "id": "a92ec45f",
   "metadata": {},
   "outputs": [],
   "source": [
    "phone['Dad']=85685"
   ]
  },
  {
   "cell_type": "code",
   "execution_count": 8,
   "id": "3b37274f",
   "metadata": {},
   "outputs": [
    {
     "data": {
      "text/plain": [
       "{'Dad': 85685, 'mom': 456789}"
      ]
     },
     "execution_count": 8,
     "metadata": {},
     "output_type": "execute_result"
    }
   ],
   "source": [
    "phone"
   ]
  },
  {
   "cell_type": "code",
   "execution_count": 9,
   "id": "5cead076",
   "metadata": {},
   "outputs": [
    {
     "data": {
      "text/plain": [
       "dict_keys(['Dad', 'mom'])"
      ]
     },
     "execution_count": 9,
     "metadata": {},
     "output_type": "execute_result"
    }
   ],
   "source": [
    "phone.keys()"
   ]
  },
  {
   "cell_type": "code",
   "execution_count": 10,
   "id": "3c2d5d64",
   "metadata": {},
   "outputs": [
    {
     "data": {
      "text/plain": [
       "dict_values([85685, 456789])"
      ]
     },
     "execution_count": 10,
     "metadata": {},
     "output_type": "execute_result"
    }
   ],
   "source": [
    "phone.values()"
   ]
  },
  {
   "cell_type": "markdown",
   "id": "c1d75684",
   "metadata": {},
   "source": [
    "## Array\n",
    "- Array is similar to list \n",
    "- Homegonous data"
   ]
  },
  {
   "cell_type": "code",
   "execution_count": 11,
   "id": "5efb826d",
   "metadata": {},
   "outputs": [],
   "source": [
    "from array import array"
   ]
  },
  {
   "cell_type": "code",
   "execution_count": 13,
   "id": "e916ee14",
   "metadata": {},
   "outputs": [
    {
     "data": {
      "text/plain": [
       "array('i', [1, 2, 3])"
      ]
     },
     "execution_count": 13,
     "metadata": {},
     "output_type": "execute_result"
    }
   ],
   "source": [
    "array('i',[1,2,3])"
   ]
  },
  {
   "cell_type": "markdown",
   "id": "95a8dabf",
   "metadata": {},
   "source": [
    "## String\n"
   ]
  },
  {
   "cell_type": "code",
   "execution_count": 14,
   "id": "de442d45",
   "metadata": {},
   "outputs": [
    {
     "data": {
      "text/plain": [
       "'Ayush'"
      ]
     },
     "execution_count": 14,
     "metadata": {},
     "output_type": "execute_result"
    }
   ],
   "source": [
    "s='Ayush'\n",
    "s"
   ]
  },
  {
   "cell_type": "code",
   "execution_count": null,
   "id": "53c2682b",
   "metadata": {},
   "outputs": [],
   "source": []
  }
 ],
 "metadata": {
  "kernelspec": {
   "display_name": "Python 3 (ipykernel)",
   "language": "python",
   "name": "python3"
  },
  "language_info": {
   "codemirror_mode": {
    "name": "ipython",
    "version": 3
   },
   "file_extension": ".py",
   "mimetype": "text/x-python",
   "name": "python",
   "nbconvert_exporter": "python",
   "pygments_lexer": "ipython3",
   "version": "3.9.7"
  }
 },
 "nbformat": 4,
 "nbformat_minor": 5
}
