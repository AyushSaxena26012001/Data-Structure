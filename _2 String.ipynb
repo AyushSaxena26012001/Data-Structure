{
 "cells": [
  {
   "cell_type": "markdown",
   "id": "d44dc6b2",
   "metadata": {},
   "source": [
    "# String\n",
    "- Sequence of Character represent and manipulate textual data.\n",
    "- Characters are represented using numercial value and each character is assigned a unique value.\n",
    "- ASCII (7 bits) and Unicode (16 bits)\n",
    "- American Standard code for information Interchange.\n",
    "- UTF-8, UTF-16 popular encoding scheme.\n",
    "- ASCII is 2^8 and UTF is 2^16\n",
    "- UTF stands for Unicode transformation format.\n",
    "- String are immutable."
   ]
  },
  {
   "cell_type": "code",
   "execution_count": 1,
   "id": "c7eb52cf",
   "metadata": {},
   "outputs": [
    {
     "data": {
      "text/plain": [
       "65"
      ]
     },
     "execution_count": 1,
     "metadata": {},
     "output_type": "execute_result"
    }
   ],
   "source": [
    "# ASCII Respre\n",
    "char=\"A\"\n",
    "ord(char) # Ordinal means numerical order of character"
   ]
  },
  {
   "cell_type": "code",
   "execution_count": 2,
   "id": "e93fd24d",
   "metadata": {},
   "outputs": [
    {
     "data": {
      "text/plain": [
       "'A'"
      ]
     },
     "execution_count": 2,
     "metadata": {},
     "output_type": "execute_result"
    }
   ],
   "source": [
    "chr(65)"
   ]
  },
  {
   "cell_type": "code",
   "execution_count": 3,
   "id": "1dba10ed",
   "metadata": {},
   "outputs": [
    {
     "data": {
      "text/plain": [
       "97"
      ]
     },
     "execution_count": 3,
     "metadata": {},
     "output_type": "execute_result"
    }
   ],
   "source": [
    "ord('a')"
   ]
  },
  {
   "cell_type": "code",
   "execution_count": 5,
   "id": "a33a7984",
   "metadata": {},
   "outputs": [
    {
     "data": {
      "text/plain": [
       "'a'"
      ]
     },
     "execution_count": 5,
     "metadata": {},
     "output_type": "execute_result"
    }
   ],
   "source": [
    "chr(97)"
   ]
  },
  {
   "cell_type": "code",
   "execution_count": 6,
   "id": "da77fc26",
   "metadata": {},
   "outputs": [
    {
     "data": {
      "text/plain": [
       "86"
      ]
     },
     "execution_count": 6,
     "metadata": {},
     "output_type": "execute_result"
    }
   ],
   "source": [
    "ord('V')"
   ]
  },
  {
   "cell_type": "code",
   "execution_count": 7,
   "id": "a1c5f0a2",
   "metadata": {},
   "outputs": [
    {
     "data": {
      "text/plain": [
       "'Ω'"
      ]
     },
     "execution_count": 7,
     "metadata": {},
     "output_type": "execute_result"
    }
   ],
   "source": [
    "# Unicode\n",
    "#omega\n",
    "'\\u03A9'"
   ]
  },
  {
   "cell_type": "code",
   "execution_count": 8,
   "id": "616ae09a",
   "metadata": {},
   "outputs": [
    {
     "data": {
      "text/plain": [
       "'ॳ'"
      ]
     },
     "execution_count": 8,
     "metadata": {},
     "output_type": "execute_result"
    }
   ],
   "source": [
    "'\\u0973'"
   ]
  },
  {
   "cell_type": "code",
   "execution_count": 9,
   "id": "c0a588c5",
   "metadata": {},
   "outputs": [
    {
     "data": {
      "text/plain": [
       "'Ayush Saxena'"
      ]
     },
     "execution_count": 9,
     "metadata": {},
     "output_type": "execute_result"
    }
   ],
   "source": [
    "string1='Ayush Saxena'\n",
    "string1"
   ]
  },
  {
   "cell_type": "code",
   "execution_count": 11,
   "id": "8e2574d9",
   "metadata": {},
   "outputs": [
    {
     "data": {
      "text/plain": [
       "str"
      ]
     },
     "execution_count": 11,
     "metadata": {},
     "output_type": "execute_result"
    }
   ],
   "source": [
    "type(string1)"
   ]
  },
  {
   "cell_type": "code",
   "execution_count": 12,
   "id": "3c185eb4",
   "metadata": {},
   "outputs": [
    {
     "data": {
      "text/plain": [
       "\"I'm student\""
      ]
     },
     "execution_count": 12,
     "metadata": {},
     "output_type": "execute_result"
    }
   ],
   "source": [
    "'I\\'m student'"
   ]
  },
  {
   "cell_type": "code",
   "execution_count": 13,
   "id": "d3685128",
   "metadata": {},
   "outputs": [
    {
     "data": {
      "text/plain": [
       "\"I'm Student\""
      ]
     },
     "execution_count": 13,
     "metadata": {},
     "output_type": "execute_result"
    }
   ],
   "source": [
    "'''I'm Student'''"
   ]
  },
  {
   "cell_type": "code",
   "execution_count": 14,
   "id": "8c54e55b",
   "metadata": {},
   "outputs": [],
   "source": [
    "#Concat of String-> Combination of two string"
   ]
  },
  {
   "cell_type": "code",
   "execution_count": 16,
   "id": "d169bfbc",
   "metadata": {},
   "outputs": [
    {
     "data": {
      "text/plain": [
       "'Hello World'"
      ]
     },
     "execution_count": 16,
     "metadata": {},
     "output_type": "execute_result"
    }
   ],
   "source": [
    "\"Hello\" +\" World\""
   ]
  },
  {
   "cell_type": "code",
   "execution_count": 17,
   "id": "dfadab02",
   "metadata": {},
   "outputs": [
    {
     "data": {
      "text/plain": [
       "'Hello, World'"
      ]
     },
     "execution_count": 17,
     "metadata": {},
     "output_type": "execute_result"
    }
   ],
   "source": [
    "s1=\"Hello\"\n",
    "s2=\"World\"\n",
    "s1+ \", \"+s2"
   ]
  },
  {
   "cell_type": "code",
   "execution_count": 18,
   "id": "cafc8849",
   "metadata": {},
   "outputs": [],
   "source": [
    "# Extract or Slicing\n",
    "a=\"Ayush Saxena\""
   ]
  },
  {
   "cell_type": "code",
   "execution_count": 19,
   "id": "759e903d",
   "metadata": {},
   "outputs": [
    {
     "data": {
      "text/plain": [
       "'A'"
      ]
     },
     "execution_count": 19,
     "metadata": {},
     "output_type": "execute_result"
    }
   ],
   "source": [
    "a[0]"
   ]
  },
  {
   "cell_type": "code",
   "execution_count": 20,
   "id": "3d73c884",
   "metadata": {},
   "outputs": [
    {
     "data": {
      "text/plain": [
       "'yus'"
      ]
     },
     "execution_count": 20,
     "metadata": {},
     "output_type": "execute_result"
    }
   ],
   "source": [
    "a[1:4]"
   ]
  },
  {
   "cell_type": "code",
   "execution_count": 21,
   "id": "22839680",
   "metadata": {},
   "outputs": [
    {
     "data": {
      "text/plain": [
       "'a'"
      ]
     },
     "execution_count": 21,
     "metadata": {},
     "output_type": "execute_result"
    }
   ],
   "source": [
    "a[-1]"
   ]
  },
  {
   "cell_type": "code",
   "execution_count": 22,
   "id": "2849d563",
   "metadata": {},
   "outputs": [
    {
     "data": {
      "text/plain": [
       "'Ayush Saxena'"
      ]
     },
     "execution_count": 22,
     "metadata": {},
     "output_type": "execute_result"
    }
   ],
   "source": [
    "a[::1]"
   ]
  },
  {
   "cell_type": "code",
   "execution_count": 25,
   "id": "549890ae",
   "metadata": {},
   "outputs": [
    {
     "data": {
      "text/plain": [
       "'en'"
      ]
     },
     "execution_count": 25,
     "metadata": {},
     "output_type": "execute_result"
    }
   ],
   "source": [
    "a[-3:-1]"
   ]
  },
  {
   "cell_type": "code",
   "execution_count": 26,
   "id": "0fb17820",
   "metadata": {},
   "outputs": [
    {
     "data": {
      "text/plain": [
       "'anexaS hsuyA'"
      ]
     },
     "execution_count": 26,
     "metadata": {},
     "output_type": "execute_result"
    }
   ],
   "source": [
    "a[::-1] #reverse of string"
   ]
  },
  {
   "cell_type": "code",
   "execution_count": 27,
   "id": "075d6a6e",
   "metadata": {},
   "outputs": [
    {
     "data": {
      "text/plain": [
       "'Ayush Saxena'"
      ]
     },
     "execution_count": 27,
     "metadata": {},
     "output_type": "execute_result"
    }
   ],
   "source": [
    "a"
   ]
  },
  {
   "cell_type": "code",
   "execution_count": 28,
   "id": "5a8f735b",
   "metadata": {},
   "outputs": [
    {
     "ename": "TypeError",
     "evalue": "'str' object does not support item assignment",
     "output_type": "error",
     "traceback": [
      "\u001b[1;31m---------------------------------------------------------------------------\u001b[0m",
      "\u001b[1;31mTypeError\u001b[0m                                 Traceback (most recent call last)",
      "\u001b[1;32m~\\AppData\\Local\\Temp/ipykernel_12248/275072166.py\u001b[0m in \u001b[0;36m<module>\u001b[1;34m\u001b[0m\n\u001b[1;32m----> 1\u001b[1;33m \u001b[0ma\u001b[0m\u001b[1;33m[\u001b[0m\u001b[1;36m0\u001b[0m\u001b[1;33m]\u001b[0m\u001b[1;33m=\u001b[0m\u001b[1;34m\"a\"\u001b[0m\u001b[1;33m\u001b[0m\u001b[1;33m\u001b[0m\u001b[0m\n\u001b[0m",
      "\u001b[1;31mTypeError\u001b[0m: 'str' object does not support item assignment"
     ]
    }
   ],
   "source": [
    "a[0]=\"a\" #immutable"
   ]
  },
  {
   "cell_type": "code",
   "execution_count": 29,
   "id": "24ecfff9",
   "metadata": {},
   "outputs": [
    {
     "data": {
      "text/plain": [
       "'Ayush Saxena'"
      ]
     },
     "execution_count": 29,
     "metadata": {},
     "output_type": "execute_result"
    }
   ],
   "source": [
    "a"
   ]
  },
  {
   "cell_type": "code",
   "execution_count": 30,
   "id": "f5d0477a",
   "metadata": {},
   "outputs": [
    {
     "data": {
      "text/plain": [
       "12"
      ]
     },
     "execution_count": 30,
     "metadata": {},
     "output_type": "execute_result"
    }
   ],
   "source": [
    "len(a)"
   ]
  },
  {
   "cell_type": "code",
   "execution_count": 31,
   "id": "82db421b",
   "metadata": {},
   "outputs": [],
   "source": [
    "# Modification of string is possible \n",
    "s2= \"I'm a student\""
   ]
  },
  {
   "cell_type": "code",
   "execution_count": 32,
   "id": "dda28fe9",
   "metadata": {},
   "outputs": [
    {
     "data": {
      "text/plain": [
       "\"I'm a teacher\""
      ]
     },
     "execution_count": 32,
     "metadata": {},
     "output_type": "execute_result"
    }
   ],
   "source": [
    "s2.replace('student','teacher')"
   ]
  },
  {
   "cell_type": "code",
   "execution_count": 33,
   "id": "6a772090",
   "metadata": {},
   "outputs": [],
   "source": [
    "#Use case \n",
    "#1. Address"
   ]
  },
  {
   "cell_type": "code",
   "execution_count": 38,
   "id": "cc1379b6",
   "metadata": {},
   "outputs": [],
   "source": [
    "text=\"BRB\",\"LOL\""
   ]
  },
  {
   "cell_type": "code",
   "execution_count": 35,
   "id": "67a2aa04",
   "metadata": {},
   "outputs": [
    {
     "data": {
      "text/plain": [
       "('BRB', 'LOL')"
      ]
     },
     "execution_count": 35,
     "metadata": {},
     "output_type": "execute_result"
    }
   ],
   "source": [
    "text"
   ]
  },
  {
   "cell_type": "code",
   "execution_count": 2,
   "id": "5e7122f8",
   "metadata": {},
   "outputs": [
    {
     "data": {
      "text/plain": [
       "'Be Back,Laugh'"
      ]
     },
     "execution_count": 2,
     "metadata": {},
     "output_type": "execute_result"
    }
   ],
   "source": [
    "text=\"BRB,LOL\"\n",
    "text.replace(\"BRB\",\"Be Back\").replace('LOL',\"Laugh\")"
   ]
  },
  {
   "cell_type": "markdown",
   "id": "680d810d",
   "metadata": {},
   "source": [
    "#45 min\n"
   ]
  },
  {
   "cell_type": "code",
   "execution_count": 3,
   "id": "8711849d",
   "metadata": {},
   "outputs": [
    {
     "data": {
      "text/plain": [
       "'Hello world'"
      ]
     },
     "execution_count": 3,
     "metadata": {},
     "output_type": "execute_result"
    }
   ],
   "source": [
    "text=\"Hello world\"\n",
    "text.lower()\n",
    "text"
   ]
  },
  {
   "cell_type": "code",
   "execution_count": 4,
   "id": "02679427",
   "metadata": {},
   "outputs": [
    {
     "data": {
      "text/plain": [
       "'HELLO WORLD'"
      ]
     },
     "execution_count": 4,
     "metadata": {},
     "output_type": "execute_result"
    }
   ],
   "source": [
    "text.upper()"
   ]
  },
  {
   "cell_type": "code",
   "execution_count": 6,
   "id": "6cdd8990",
   "metadata": {},
   "outputs": [
    {
     "data": {
      "text/plain": [
       "'Hello World'"
      ]
     },
     "execution_count": 6,
     "metadata": {},
     "output_type": "execute_result"
    }
   ],
   "source": [
    "text.title()"
   ]
  },
  {
   "cell_type": "code",
   "execution_count": 7,
   "id": "4c02e699",
   "metadata": {},
   "outputs": [
    {
     "data": {
      "text/plain": [
       "'hI THIS IS pYTHON CLASS'"
      ]
     },
     "execution_count": 7,
     "metadata": {},
     "output_type": "execute_result"
    }
   ],
   "source": [
    "a=\"Hi this is Python class\"\n",
    "a.swapcase()"
   ]
  },
  {
   "cell_type": "code",
   "execution_count": 8,
   "id": "a8a68ed6",
   "metadata": {},
   "outputs": [
    {
     "data": {
      "text/plain": [
       "'Hi this is python class'"
      ]
     },
     "execution_count": 8,
     "metadata": {},
     "output_type": "execute_result"
    }
   ],
   "source": [
    "a.capitalize()"
   ]
  },
  {
   "cell_type": "code",
   "execution_count": 9,
   "id": "d4e15919",
   "metadata": {},
   "outputs": [
    {
     "data": {
      "text/plain": [
       "True"
      ]
     },
     "execution_count": 9,
     "metadata": {},
     "output_type": "execute_result"
    }
   ],
   "source": [
    "#String searching\n",
    "sen=\"Im a software engineer\"\n",
    "'a' in sen"
   ]
  },
  {
   "cell_type": "code",
   "execution_count": 10,
   "id": "11b61038",
   "metadata": {},
   "outputs": [
    {
     "name": "stdout",
     "output_type": "stream",
     "text": [
      "Search word is present\n"
     ]
    }
   ],
   "source": [
    "sentence= \"I am a software engineer\"\n",
    "serch_word='am'\n",
    "if serch_word in sentence:\n",
    "    print(\"Search word is present\")\n",
    "else:\n",
    "    print(\"Search word is not present\")"
   ]
  },
  {
   "cell_type": "code",
   "execution_count": 11,
   "id": "53872c2c",
   "metadata": {},
   "outputs": [
    {
     "data": {
      "text/plain": [
       "True"
      ]
     },
     "execution_count": 11,
     "metadata": {},
     "output_type": "execute_result"
    }
   ],
   "source": [
    "# String COmparision \n",
    "s1='Hello'\n",
    "s2=\"Hello\"\n",
    "s1==s2"
   ]
  },
  {
   "cell_type": "code",
   "execution_count": 12,
   "id": "62379c1e",
   "metadata": {},
   "outputs": [
    {
     "name": "stdout",
     "output_type": "stream",
     "text": [
      "Avialble\n"
     ]
    }
   ],
   "source": [
    "reg_user=['AY','ay']\n",
    "new_user='AY1'\n",
    "if new_user in reg_user:\n",
    "    print(\"Already in use\")\n",
    "else:\n",
    "    print(\"Avialble\")"
   ]
  },
  {
   "cell_type": "code",
   "execution_count": 14,
   "id": "f984d580",
   "metadata": {},
   "outputs": [
    {
     "name": "stdout",
     "output_type": "stream",
     "text": [
      "1\n",
      "2\n",
      "3\n",
      "4\n"
     ]
    }
   ],
   "source": [
    "a=((1,2),(3,4))\n",
    "for i in a:\n",
    "    for j in i:\n",
    "        print(j)"
   ]
  },
  {
   "cell_type": "code",
   "execution_count": 16,
   "id": "44a0873d",
   "metadata": {},
   "outputs": [
    {
     "name": "stdout",
     "output_type": "stream",
     "text": [
      "Scanned the codePW123\n",
      "Price is 100\n"
     ]
    }
   ],
   "source": [
    "product_code=\"PW123\"\n",
    "scannes_code= input(\"Scanned the code\")\n",
    "if product_code == scannes_code:\n",
    "    print(\"Price is 100\")\n",
    "else:\n",
    "    print(\"Bug\")"
   ]
  },
  {
   "cell_type": "code",
   "execution_count": 17,
   "id": "e359cae0",
   "metadata": {},
   "outputs": [
    {
     "data": {
      "text/plain": [
       "['Ayush', 'aman', 'ayush']"
      ]
     },
     "execution_count": 17,
     "metadata": {},
     "output_type": "execute_result"
    }
   ],
   "source": [
    "# String Ordering\n",
    "name=['ayush','aman','Ayush']\n",
    "sorted(name)"
   ]
  },
  {
   "cell_type": "code",
   "execution_count": 18,
   "id": "c891b66f",
   "metadata": {},
   "outputs": [
    {
     "data": {
      "text/plain": [
       "'pw'"
      ]
     },
     "execution_count": 18,
     "metadata": {},
     "output_type": "execute_result"
    }
   ],
   "source": [
    "#Common string operation\n",
    "str=\"   pw\"\n",
    "str.strip() #remove the spaces "
   ]
  },
  {
   "cell_type": "code",
   "execution_count": 19,
   "id": "1abe9b86",
   "metadata": {},
   "outputs": [
    {
     "data": {
      "text/plain": [
       "'Apple'"
      ]
     },
     "execution_count": 19,
     "metadata": {},
     "output_type": "execute_result"
    }
   ],
   "source": [
    "row=\"Apple      \"\n",
    "row.strip()"
   ]
  },
  {
   "cell_type": "code",
   "execution_count": 20,
   "id": "e87caa09",
   "metadata": {},
   "outputs": [
    {
     "data": {
      "text/plain": [
       "['Ayush', ' software engineer', ' IT']"
      ]
     },
     "execution_count": 20,
     "metadata": {},
     "output_type": "execute_result"
    }
   ],
   "source": [
    "#String splitting\n",
    "data=\"Ayush, software engineer, IT\"\n",
    "data.split(',')"
   ]
  },
  {
   "cell_type": "code",
   "execution_count": 21,
   "id": "81ea7e46",
   "metadata": {},
   "outputs": [
    {
     "name": "stdout",
     "output_type": "stream",
     "text": [
      "\n",
      "Hi this is Ayush\n",
      "Data Scientist Speaclist\n",
      "Engineer\n",
      "\n"
     ]
    }
   ],
   "source": [
    "a=\"\"\"\n",
    "Hi this is Ayush\n",
    "Data Scientist Speaclist\n",
    "Engineer\n",
    "\"\"\"\n",
    "print(a)"
   ]
  },
  {
   "cell_type": "code",
   "execution_count": 23,
   "id": "f664d47e",
   "metadata": {},
   "outputs": [
    {
     "name": "stdout",
     "output_type": "stream",
     "text": [
      "Name\tAge\tGrade\n",
      "John\t21\tA\n",
      "Jack\t22\tb\n"
     ]
    }
   ],
   "source": [
    "a=\"Name\\tAge\\tGrade\\nJohn\\t21\\tA\\nJack\\t22\\tb\"\n",
    "print(a)"
   ]
  },
  {
   "cell_type": "code",
   "execution_count": 25,
   "id": "71ee81be",
   "metadata": {},
   "outputs": [
    {
     "name": "stdout",
     "output_type": "stream",
     "text": [
      "I can't play TT\n"
     ]
    }
   ],
   "source": [
    "str2='I can\\'t play TT'\n",
    "print(str2)"
   ]
  },
  {
   "cell_type": "code",
   "execution_count": 26,
   "id": "1dc1df80",
   "metadata": {},
   "outputs": [
    {
     "name": "stdout",
     "output_type": "stream",
     "text": [
      "Hi this is Ayush Saxena\n",
      "Hi this is \r",
      "Ayush Saxena\n"
     ]
    }
   ],
   "source": [
    "# Carriage return  \\r-> moves the cursor\n",
    "print(\"Hi this is Ayush Saxena\")\n",
    "print(\"Hi this is \\rAyush Saxena\")"
   ]
  },
  {
   "cell_type": "code",
   "execution_count": 29,
   "id": "21ad853c",
   "metadata": {},
   "outputs": [
    {
     "name": "stdout",
     "output_type": "stream",
     "text": [
      "Hello Ayush, how are you?\n"
     ]
    }
   ],
   "source": [
    "# String Formatiing->Creating String with placeholder for variables\n",
    "name=\"Ayush\"\n",
    "greetings=f'Hello {name}, how are you?'\n",
    "print(greetings)"
   ]
  },
  {
   "cell_type": "code",
   "execution_count": 33,
   "id": "711fa6a2",
   "metadata": {},
   "outputs": [
    {
     "name": "stdout",
     "output_type": "stream",
     "text": [
      "Hello,Ayush welcome to DS\n"
     ]
    }
   ],
   "source": [
    "#.format\n",
    "template='Hello,{} welcome to {}'\n",
    "message=template.format(\"Ayush\",\"DS\")\n",
    "print(message)"
   ]
  },
  {
   "cell_type": "code",
   "execution_count": 34,
   "id": "0974d42d",
   "metadata": {},
   "outputs": [],
   "source": [
    "name=\"Ayush\"\n",
    "occ='Engineer'\n",
    "message=f\" Hi this is {name} and I am {occ}.\""
   ]
  },
  {
   "cell_type": "code",
   "execution_count": 35,
   "id": "e93a1696",
   "metadata": {},
   "outputs": [
    {
     "data": {
      "text/plain": [
       "' Hi this is Ayush and I am Engineer.'"
      ]
     },
     "execution_count": 35,
     "metadata": {},
     "output_type": "execute_result"
    }
   ],
   "source": [
    "message"
   ]
  },
  {
   "cell_type": "code",
   "execution_count": 36,
   "id": "1f090091",
   "metadata": {},
   "outputs": [
    {
     "data": {
      "text/plain": [
       "'30 is equal to 86.0F'"
      ]
     },
     "execution_count": 36,
     "metadata": {},
     "output_type": "execute_result"
    }
   ],
   "source": [
    "celcius=30\n",
    "f\"{celcius} is equal to {(celcius*9/5)+32}F\""
   ]
  },
  {
   "cell_type": "code",
   "execution_count": 37,
   "id": "2c300357",
   "metadata": {},
   "outputs": [
    {
     "data": {
      "text/plain": [
       "True"
      ]
     },
     "execution_count": 37,
     "metadata": {},
     "output_type": "execute_result"
    }
   ],
   "source": [
    "a=\"Ayush\"\n",
    "a.startswith('A')"
   ]
  },
  {
   "cell_type": "code",
   "execution_count": 38,
   "id": "aead4b06",
   "metadata": {},
   "outputs": [
    {
     "data": {
      "text/plain": [
       "True"
      ]
     },
     "execution_count": 38,
     "metadata": {},
     "output_type": "execute_result"
    }
   ],
   "source": [
    "a.endswith(\"h\")"
   ]
  },
  {
   "cell_type": "code",
   "execution_count": 39,
   "id": "0ad75e18",
   "metadata": {},
   "outputs": [
    {
     "data": {
      "text/plain": [
       "True"
      ]
     },
     "execution_count": 39,
     "metadata": {},
     "output_type": "execute_result"
    }
   ],
   "source": [
    "a.isalnum()"
   ]
  },
  {
   "cell_type": "code",
   "execution_count": 41,
   "id": "13f8804c",
   "metadata": {},
   "outputs": [
    {
     "data": {
      "text/plain": [
       "True"
      ]
     },
     "execution_count": 41,
     "metadata": {},
     "output_type": "execute_result"
    }
   ],
   "source": [
    "a.isascii()"
   ]
  },
  {
   "cell_type": "code",
   "execution_count": 42,
   "id": "07a186e0",
   "metadata": {},
   "outputs": [
    {
     "name": "stdout",
     "output_type": "stream",
     "text": [
      "A\n",
      "y\n",
      "u\n",
      "s\n",
      "h\n"
     ]
    }
   ],
   "source": [
    "a=\"Ayush\"\n",
    "count=0\n",
    "for i in a:\n",
    "    print(i)\n",
    "    count=count+1\n",
    "print(count)"
   ]
  },
  {
   "cell_type": "code",
   "execution_count": null,
   "id": "5c069fb0",
   "metadata": {},
   "outputs": [],
   "source": []
  }
 ],
 "metadata": {
  "kernelspec": {
   "display_name": "Python 3 (ipykernel)",
   "language": "python",
   "name": "python3"
  },
  "language_info": {
   "codemirror_mode": {
    "name": "ipython",
    "version": 3
   },
   "file_extension": ".py",
   "mimetype": "text/x-python",
   "name": "python",
   "nbconvert_exporter": "python",
   "pygments_lexer": "ipython3",
   "version": "3.9.7"
  }
 },
 "nbformat": 4,
 "nbformat_minor": 5
}
